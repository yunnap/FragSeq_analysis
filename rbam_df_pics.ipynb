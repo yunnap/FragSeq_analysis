{
 "cells": [
  {
   "cell_type": "code",
   "execution_count": 1,
   "id": "fcc61a60-7dc4-4146-8ac0-68d1fa3429cd",
   "metadata": {},
   "outputs": [],
   "source": [
    "import os\n",
    "import glob\n",
    "import pandas as pd\n",
    "import itertools\n",
    "\n",
    "import Bio\n",
    "from Bio import Entrez, SeqIO\n",
    "from Bio import AlignIO"
   ]
  },
  {
   "cell_type": "code",
   "execution_count": 2,
   "id": "8684bba7-bf4c-46e0-b976-fa3eeb82769a",
   "metadata": {},
   "outputs": [],
   "source": [
    "import numpy as np\n",
    "import matplotlib.pyplot as plt\n",
    "import seaborn as sns"
   ]
  },
  {
   "cell_type": "code",
   "execution_count": 3,
   "id": "62a26a7e-bdef-43a6-999b-78de267276c7",
   "metadata": {},
   "outputs": [],
   "source": [
    "#path_to_bam_file = \"\"\n",
    "path_to_bam_file = '/Users/unnost/workwork/prespacers_task/Results_fragseq/Oct14_S10_R1_001_R2_kd403-real_uni_mapped.csv'"
   ]
  },
  {
   "cell_type": "code",
   "execution_count": 4,
   "id": "6aed7e7e-4375-4731-a492-82ba76721449",
   "metadata": {},
   "outputs": [],
   "source": [
    "PPS_start = 575538\n",
    "PPS_end = 575570\n",
    "\n",
    "region_len = 25000"
   ]
  },
  {
   "cell_type": "code",
   "execution_count": 5,
   "id": "3cb6d125-47ab-474a-be30-220dcc5723aa",
   "metadata": {},
   "outputs": [
    {
     "data": {
      "text/html": [
       "<div>\n",
       "<style scoped>\n",
       "    .dataframe tbody tr th:only-of-type {\n",
       "        vertical-align: middle;\n",
       "    }\n",
       "\n",
       "    .dataframe tbody tr th {\n",
       "        vertical-align: top;\n",
       "    }\n",
       "\n",
       "    .dataframe thead th {\n",
       "        text-align: right;\n",
       "    }\n",
       "</style>\n",
       "<table border=\"1\" class=\"dataframe\">\n",
       "  <thead>\n",
       "    <tr style=\"text-align: right;\">\n",
       "      <th></th>\n",
       "      <th>qname</th>\n",
       "      <th>flag</th>\n",
       "      <th>rname</th>\n",
       "      <th>strand</th>\n",
       "      <th>pos</th>\n",
       "      <th>qwidth</th>\n",
       "      <th>mapq</th>\n",
       "      <th>cigar</th>\n",
       "      <th>mrnm</th>\n",
       "      <th>mpos</th>\n",
       "      <th>isize</th>\n",
       "      <th>seq</th>\n",
       "      <th>qual</th>\n",
       "    </tr>\n",
       "  </thead>\n",
       "  <tbody>\n",
       "    <tr>\n",
       "      <th>1</th>\n",
       "      <td>A01492:11:HNH7TDMXX:1:1101:5710:1016</td>\n",
       "      <td>83</td>\n",
       "      <td>KD403</td>\n",
       "      <td>-</td>\n",
       "      <td>4436683</td>\n",
       "      <td>95</td>\n",
       "      <td>60</td>\n",
       "      <td>95M</td>\n",
       "      <td>KD403</td>\n",
       "      <td>4436683</td>\n",
       "      <td>-95</td>\n",
       "      <td>GTAGTATTCGTTATCCGATCCAGGAATGGTCACTTTACCGGTCAGG...</td>\n",
       "      <td>FFFFFFFFFFFFFFFFFFFFFFFFFFFFFFFFFFFFFFFFFFFFFF...</td>\n",
       "    </tr>\n",
       "    <tr>\n",
       "      <th>2</th>\n",
       "      <td>A01492:11:HNH7TDMXX:1:1101:5710:1016</td>\n",
       "      <td>163</td>\n",
       "      <td>KD403</td>\n",
       "      <td>+</td>\n",
       "      <td>4436683</td>\n",
       "      <td>95</td>\n",
       "      <td>60</td>\n",
       "      <td>95M</td>\n",
       "      <td>KD403</td>\n",
       "      <td>4436683</td>\n",
       "      <td>95</td>\n",
       "      <td>GTAGTATTCGTTATCCGATCCAGGAATGGTCACTTTACCGGTCAGG...</td>\n",
       "      <td>FF:FFFFFFFFFFFFFFFFFFFFFFFFFFFFFFFFFFFFFFFFFFF...</td>\n",
       "    </tr>\n",
       "    <tr>\n",
       "      <th>3</th>\n",
       "      <td>A01492:11:HNH7TDMXX:1:1101:13630:1016</td>\n",
       "      <td>83</td>\n",
       "      <td>KD403</td>\n",
       "      <td>-</td>\n",
       "      <td>3139284</td>\n",
       "      <td>59</td>\n",
       "      <td>60</td>\n",
       "      <td>59M</td>\n",
       "      <td>KD403</td>\n",
       "      <td>3139284</td>\n",
       "      <td>-59</td>\n",
       "      <td>GACGGTTCTCAACGTTATGCCAGAGCGATTTTTCGGCGTCGTATTG...</td>\n",
       "      <td>FFFFFFFFFFFFFFFFFFFFFFFFFFFFFFFFFFFFFFFFFFFFFF...</td>\n",
       "    </tr>\n",
       "    <tr>\n",
       "      <th>4</th>\n",
       "      <td>A01492:11:HNH7TDMXX:1:1101:13630:1016</td>\n",
       "      <td>163</td>\n",
       "      <td>KD403</td>\n",
       "      <td>+</td>\n",
       "      <td>3139284</td>\n",
       "      <td>59</td>\n",
       "      <td>60</td>\n",
       "      <td>59M</td>\n",
       "      <td>KD403</td>\n",
       "      <td>3139284</td>\n",
       "      <td>59</td>\n",
       "      <td>GACGGTTCTCAACGTTATGCCAGAGCGATTTTTCGGCGTCGTATTG...</td>\n",
       "      <td>FFFFFFFFFFFFFFFFFFFFF:FFFFFFFFFFFFFFFFFFFFFFFF...</td>\n",
       "    </tr>\n",
       "    <tr>\n",
       "      <th>5</th>\n",
       "      <td>A01492:11:HNH7TDMXX:1:1101:17616:1031</td>\n",
       "      <td>99</td>\n",
       "      <td>KD403</td>\n",
       "      <td>+</td>\n",
       "      <td>2198430</td>\n",
       "      <td>96</td>\n",
       "      <td>60</td>\n",
       "      <td>96M</td>\n",
       "      <td>KD403</td>\n",
       "      <td>2198433</td>\n",
       "      <td>96</td>\n",
       "      <td>GATTATCTCCCTGACCTGGTGGTTGCCCAGGAGGAGGGCCGGAAAT...</td>\n",
       "      <td>FFFFFFFFFFFFFFFFFFFFFFFFFFFFFFFFFFFFFFFFFFFFFF...</td>\n",
       "    </tr>\n",
       "  </tbody>\n",
       "</table>\n",
       "</div>"
      ],
      "text/plain": [
       "                                   qname  flag  rname strand      pos  qwidth  \\\n",
       "1   A01492:11:HNH7TDMXX:1:1101:5710:1016    83  KD403      -  4436683      95   \n",
       "2   A01492:11:HNH7TDMXX:1:1101:5710:1016   163  KD403      +  4436683      95   \n",
       "3  A01492:11:HNH7TDMXX:1:1101:13630:1016    83  KD403      -  3139284      59   \n",
       "4  A01492:11:HNH7TDMXX:1:1101:13630:1016   163  KD403      +  3139284      59   \n",
       "5  A01492:11:HNH7TDMXX:1:1101:17616:1031    99  KD403      +  2198430      96   \n",
       "\n",
       "   mapq cigar   mrnm     mpos  isize  \\\n",
       "1    60   95M  KD403  4436683    -95   \n",
       "2    60   95M  KD403  4436683     95   \n",
       "3    60   59M  KD403  3139284    -59   \n",
       "4    60   59M  KD403  3139284     59   \n",
       "5    60   96M  KD403  2198433     96   \n",
       "\n",
       "                                                 seq  \\\n",
       "1  GTAGTATTCGTTATCCGATCCAGGAATGGTCACTTTACCGGTCAGG...   \n",
       "2  GTAGTATTCGTTATCCGATCCAGGAATGGTCACTTTACCGGTCAGG...   \n",
       "3  GACGGTTCTCAACGTTATGCCAGAGCGATTTTTCGGCGTCGTATTG...   \n",
       "4  GACGGTTCTCAACGTTATGCCAGAGCGATTTTTCGGCGTCGTATTG...   \n",
       "5  GATTATCTCCCTGACCTGGTGGTTGCCCAGGAGGAGGGCCGGAAAT...   \n",
       "\n",
       "                                                qual  \n",
       "1  FFFFFFFFFFFFFFFFFFFFFFFFFFFFFFFFFFFFFFFFFFFFFF...  \n",
       "2  FF:FFFFFFFFFFFFFFFFFFFFFFFFFFFFFFFFFFFFFFFFFFF...  \n",
       "3  FFFFFFFFFFFFFFFFFFFFFFFFFFFFFFFFFFFFFFFFFFFFFF...  \n",
       "4  FFFFFFFFFFFFFFFFFFFFF:FFFFFFFFFFFFFFFFFFFFFFFF...  \n",
       "5  FFFFFFFFFFFFFFFFFFFFFFFFFFFFFFFFFFFFFFFFFFFFFF...  "
      ]
     },
     "execution_count": 5,
     "metadata": {},
     "output_type": "execute_result"
    }
   ],
   "source": [
    "uni_bam_df = pd.read_csv(path_to_bam_file,  sep =' ') #, header=None)\n",
    "uni_bam_df.head()"
   ]
  },
  {
   "cell_type": "code",
   "execution_count": 6,
   "id": "cca477cb-55d8-4f61-b1a6-a9ae8df81df1",
   "metadata": {},
   "outputs": [
    {
     "data": {
      "text/plain": [
       "(7013784, 13)"
      ]
     },
     "execution_count": 6,
     "metadata": {},
     "output_type": "execute_result"
    }
   ],
   "source": [
    "#check a size of df\n",
    "uni_bam_df.shape"
   ]
  },
  {
   "cell_type": "code",
   "execution_count": 10,
   "id": "8854c963-9e1f-443d-839c-55656307a0af",
   "metadata": {},
   "outputs": [
    {
     "data": {
      "image/png": "[encoded data removed]",
      "text/plain": [
       "<Figure size 720x504 with 1 Axes>"
      ]
     },
     "metadata": {
      "needs_background": "light"
     },
     "output_type": "display_data"
    }
   ],
   "source": [
    "a=[abs(e) for e in list(uni_bam_df[\"isize\"])]\n",
    "\n",
    "fig=plt.figure(figsize=(10,7))\n",
    "plt.title(u'Insert size distribution ->ref.genome', fontsize=15)\n",
    "#plt.hist(a, bins=\"auto\", density = True)\n",
    "plt.hist(a, bins=range(1,150), density = True)\n",
    "#plt.xticks([20, 30, 31, 32, 33, 34, 35, 36, 37, 38, 39, 40, 50])\n",
    "#plt.legend(loc='upper left')\n",
    "plt.show(fig)"
   ]
  },
  {
   "cell_type": "code",
   "execution_count": null,
   "id": "91926212-855c-4915-8d31-cdd477c47b4e",
   "metadata": {},
   "outputs": [],
   "source": [
    "#path_to_save = \"\"\n",
    "#fig.savefig(path_to_save, dpi=200)"
   ]
  },
  {
   "cell_type": "markdown",
   "id": "ce127a42-5289-442c-b32b-863450e84b4e",
   "metadata": {},
   "source": [
    "downstream of PPS (25kbp)\n",
    "="
   ]
  },
  {
   "cell_type": "code",
   "execution_count": 33,
   "id": "0c3fd1d3-0869-481f-9cd8-193e2fb82685",
   "metadata": {},
   "outputs": [],
   "source": [
    "#create 3 dfs: filter of the region; direct strand; reverse strand \n",
    "#pairs of reads are considered\n",
    "\n",
    "dff_len_isize = pd.DataFrame({'qname': [''], 'flag': [''], 'strand': [''], 'isize': ['']})\n",
    "dff_len_dir_99_147 = pd.DataFrame({'qname': [''], 'flag': [''], 'strand': [''], 'isize': ['']})\n",
    "dff_len_dir_83_163 = pd.DataFrame({'qname': [''], 'flag': [''], 'strand': [''], 'isize': ['']})"
   ]
  },
  {
   "cell_type": "code",
   "execution_count": 34,
   "id": "d354a6dd-41d9-49d2-abee-ee403a198956",
   "metadata": {},
   "outputs": [],
   "source": [
    "#25kbp+\n",
    "k = 0\n",
    "for m in range(1, uni_bam_df.shape[0]):\n",
    "    #if uni_bam_df['strand'][m] == '-':\n",
    "    if \"D\" or \"I\" not in uni_bam_df[\"cigar\"]:\n",
    "        \n",
    "        #if int(uni_bam_df['pos'][m]) > 575570 and int(uni_bam_df['pos'][m]) < 600670:\n",
    "        if int(uni_bam_df['pos'][m]) > PPS_end and int(uni_bam_df['pos'][m]) < PPS_start+region_len:\n",
    "        \n",
    "            dff_len_isize.loc[k, 'qname'] = uni_bam_df['qname'][m]\n",
    "            dff_len_isize.loc[k, 'flag'] = uni_bam_df['flag'][m]\n",
    "            dff_len_isize.loc[k, 'strand'] = uni_bam_df['strand'][m]\n",
    "            dff_len_isize.loc[k, 'isize'] = uni_bam_df['isize'][m]\n",
    "\n",
    "            k+=1"
   ]
  },
  {
   "cell_type": "code",
   "execution_count": 35,
   "id": "713856a9-2f0e-40c1-80db-6b54a49ac0ec",
   "metadata": {},
   "outputs": [
    {
     "data": {
      "text/html": [
       "<div>\n",
       "<style scoped>\n",
       "    .dataframe tbody tr th:only-of-type {\n",
       "        vertical-align: middle;\n",
       "    }\n",
       "\n",
       "    .dataframe tbody tr th {\n",
       "        vertical-align: top;\n",
       "    }\n",
       "\n",
       "    .dataframe thead th {\n",
       "        text-align: right;\n",
       "    }\n",
       "</style>\n",
       "<table border=\"1\" class=\"dataframe\">\n",
       "  <thead>\n",
       "    <tr style=\"text-align: right;\">\n",
       "      <th></th>\n",
       "      <th>qname</th>\n",
       "      <th>flag</th>\n",
       "      <th>strand</th>\n",
       "      <th>isize</th>\n",
       "    </tr>\n",
       "  </thead>\n",
       "  <tbody>\n",
       "    <tr>\n",
       "      <th>0</th>\n",
       "      <td>A01492:11:HNH7TDMXX:1:1101:9561:6934</td>\n",
       "      <td>99</td>\n",
       "      <td>+</td>\n",
       "      <td>36</td>\n",
       "    </tr>\n",
       "    <tr>\n",
       "      <th>1</th>\n",
       "      <td>A01492:11:HNH7TDMXX:1:1101:9561:6934</td>\n",
       "      <td>147</td>\n",
       "      <td>-</td>\n",
       "      <td>-36</td>\n",
       "    </tr>\n",
       "    <tr>\n",
       "      <th>2</th>\n",
       "      <td>A01492:11:HNH7TDMXX:1:1101:1606:8719</td>\n",
       "      <td>99</td>\n",
       "      <td>+</td>\n",
       "      <td>41</td>\n",
       "    </tr>\n",
       "    <tr>\n",
       "      <th>3</th>\n",
       "      <td>A01492:11:HNH7TDMXX:1:1101:1606:8719</td>\n",
       "      <td>147</td>\n",
       "      <td>-</td>\n",
       "      <td>-41</td>\n",
       "    </tr>\n",
       "    <tr>\n",
       "      <th>4</th>\n",
       "      <td>A01492:11:HNH7TDMXX:1:1101:10194:24064</td>\n",
       "      <td>99</td>\n",
       "      <td>+</td>\n",
       "      <td>60</td>\n",
       "    </tr>\n",
       "  </tbody>\n",
       "</table>\n",
       "</div>"
      ],
      "text/plain": [
       "                                    qname flag strand isize\n",
       "0    A01492:11:HNH7TDMXX:1:1101:9561:6934   99      +    36\n",
       "1    A01492:11:HNH7TDMXX:1:1101:9561:6934  147      -   -36\n",
       "2    A01492:11:HNH7TDMXX:1:1101:1606:8719   99      +    41\n",
       "3    A01492:11:HNH7TDMXX:1:1101:1606:8719  147      -   -41\n",
       "4  A01492:11:HNH7TDMXX:1:1101:10194:24064   99      +    60"
      ]
     },
     "execution_count": 35,
     "metadata": {},
     "output_type": "execute_result"
    }
   ],
   "source": [
    "dff_len_isize.head()"
   ]
  },
  {
   "cell_type": "code",
   "execution_count": 36,
   "id": "d2946a5f-ff38-4870-b4c3-39009339b08a",
   "metadata": {},
   "outputs": [],
   "source": [
    "k = 0\n",
    "for m in range(0, dff_len_isize.shape[0]):\n",
    "    if int(dff_len_isize['flag'][m]) == 147 or int(dff_len_isize['flag'][m]) == 99:\n",
    "    #if int(uni_bam_df['pos'][m]) > 550538 and int(uni_bam_df['pos'][m]) < 600570:\n",
    "        #if int(uni_bam_df['qwidth'][m]) < 50:\n",
    "        dff_len_dir_99_147.loc[k, 'qname'] = dff_len_isize['qname'][m]\n",
    "        dff_len_dir_99_147.loc[k, 'flag'] = dff_len_isize['flag'][m]\n",
    "        dff_len_dir_99_147.loc[k, 'strand'] = dff_len_isize['strand'][m]\n",
    "        dff_len_dir_99_147.loc[k, 'isize'] = dff_len_isize['isize'][m]\n",
    "\n",
    "        k+=1"
   ]
  },
  {
   "cell_type": "code",
   "execution_count": 37,
   "id": "8a6676d5-5052-42e8-b023-3b03ffbf2ef9",
   "metadata": {},
   "outputs": [
    {
     "data": {
      "text/html": [
       "<div>\n",
       "<style scoped>\n",
       "    .dataframe tbody tr th:only-of-type {\n",
       "        vertical-align: middle;\n",
       "    }\n",
       "\n",
       "    .dataframe tbody tr th {\n",
       "        vertical-align: top;\n",
       "    }\n",
       "\n",
       "    .dataframe thead th {\n",
       "        text-align: right;\n",
       "    }\n",
       "</style>\n",
       "<table border=\"1\" class=\"dataframe\">\n",
       "  <thead>\n",
       "    <tr style=\"text-align: right;\">\n",
       "      <th></th>\n",
       "      <th>qname</th>\n",
       "      <th>flag</th>\n",
       "      <th>strand</th>\n",
       "      <th>isize</th>\n",
       "    </tr>\n",
       "  </thead>\n",
       "  <tbody>\n",
       "    <tr>\n",
       "      <th>0</th>\n",
       "      <td>A01492:11:HNH7TDMXX:1:1101:9561:6934</td>\n",
       "      <td>99</td>\n",
       "      <td>+</td>\n",
       "      <td>36</td>\n",
       "    </tr>\n",
       "    <tr>\n",
       "      <th>1</th>\n",
       "      <td>A01492:11:HNH7TDMXX:1:1101:9561:6934</td>\n",
       "      <td>147</td>\n",
       "      <td>-</td>\n",
       "      <td>-36</td>\n",
       "    </tr>\n",
       "    <tr>\n",
       "      <th>2</th>\n",
       "      <td>A01492:11:HNH7TDMXX:1:1101:1606:8719</td>\n",
       "      <td>99</td>\n",
       "      <td>+</td>\n",
       "      <td>41</td>\n",
       "    </tr>\n",
       "    <tr>\n",
       "      <th>3</th>\n",
       "      <td>A01492:11:HNH7TDMXX:1:1101:1606:8719</td>\n",
       "      <td>147</td>\n",
       "      <td>-</td>\n",
       "      <td>-41</td>\n",
       "    </tr>\n",
       "    <tr>\n",
       "      <th>4</th>\n",
       "      <td>A01492:11:HNH7TDMXX:1:1101:10194:24064</td>\n",
       "      <td>99</td>\n",
       "      <td>+</td>\n",
       "      <td>60</td>\n",
       "    </tr>\n",
       "    <tr>\n",
       "      <th>5</th>\n",
       "      <td>A01492:11:HNH7TDMXX:1:1101:10194:24064</td>\n",
       "      <td>147</td>\n",
       "      <td>-</td>\n",
       "      <td>-60</td>\n",
       "    </tr>\n",
       "    <tr>\n",
       "      <th>6</th>\n",
       "      <td>A01492:11:HNH7TDMXX:1:1102:15456:32863</td>\n",
       "      <td>99</td>\n",
       "      <td>+</td>\n",
       "      <td>56</td>\n",
       "    </tr>\n",
       "    <tr>\n",
       "      <th>7</th>\n",
       "      <td>A01492:11:HNH7TDMXX:1:1102:15456:32863</td>\n",
       "      <td>147</td>\n",
       "      <td>-</td>\n",
       "      <td>-56</td>\n",
       "    </tr>\n",
       "    <tr>\n",
       "      <th>8</th>\n",
       "      <td>A01492:11:HNH7TDMXX:1:1103:16378:34147</td>\n",
       "      <td>99</td>\n",
       "      <td>+</td>\n",
       "      <td>37</td>\n",
       "    </tr>\n",
       "    <tr>\n",
       "      <th>9</th>\n",
       "      <td>A01492:11:HNH7TDMXX:1:1103:16378:34147</td>\n",
       "      <td>147</td>\n",
       "      <td>-</td>\n",
       "      <td>-37</td>\n",
       "    </tr>\n",
       "  </tbody>\n",
       "</table>\n",
       "</div>"
      ],
      "text/plain": [
       "                                    qname flag strand isize\n",
       "0    A01492:11:HNH7TDMXX:1:1101:9561:6934   99      +    36\n",
       "1    A01492:11:HNH7TDMXX:1:1101:9561:6934  147      -   -36\n",
       "2    A01492:11:HNH7TDMXX:1:1101:1606:8719   99      +    41\n",
       "3    A01492:11:HNH7TDMXX:1:1101:1606:8719  147      -   -41\n",
       "4  A01492:11:HNH7TDMXX:1:1101:10194:24064   99      +    60\n",
       "5  A01492:11:HNH7TDMXX:1:1101:10194:24064  147      -   -60\n",
       "6  A01492:11:HNH7TDMXX:1:1102:15456:32863   99      +    56\n",
       "7  A01492:11:HNH7TDMXX:1:1102:15456:32863  147      -   -56\n",
       "8  A01492:11:HNH7TDMXX:1:1103:16378:34147   99      +    37\n",
       "9  A01492:11:HNH7TDMXX:1:1103:16378:34147  147      -   -37"
      ]
     },
     "execution_count": 37,
     "metadata": {},
     "output_type": "execute_result"
    }
   ],
   "source": [
    "dff_len_dir_99_147.head(10)"
   ]
  },
  {
   "cell_type": "code",
   "execution_count": 38,
   "id": "4262003e-6e04-410c-af36-10b8fa02267d",
   "metadata": {},
   "outputs": [],
   "source": [
    "k = 0\n",
    "for m in range(0, dff_len_isize.shape[0]):\n",
    "    if int(dff_len_isize['flag'][m]) == 163 or int(dff_len_isize['flag'][m]) == 83:\n",
    "    #if int(uni_bam_df['pos'][m]) > 550538 and int(uni_bam_df['pos'][m]) < 600570:\n",
    "        #if int(uni_bam_df['qwidth'][m]) < 50:\n",
    "        dff_len_dir_83_163.loc[k, 'qname'] = dff_len_isize['qname'][m]\n",
    "        dff_len_dir_83_163.loc[k, 'flag'] = dff_len_isize['flag'][m]\n",
    "        dff_len_dir_83_163.loc[k, 'strand'] = dff_len_isize['strand'][m]\n",
    "        dff_len_dir_83_163.loc[k, 'isize'] = dff_len_isize['isize'][m]\n",
    "\n",
    "        k+=1"
   ]
  },
  {
   "cell_type": "code",
   "execution_count": 39,
   "id": "4b285376-d010-4b83-9262-094f1d9f59ce",
   "metadata": {},
   "outputs": [
    {
     "data": {
      "text/html": [
       "<div>\n",
       "<style scoped>\n",
       "    .dataframe tbody tr th:only-of-type {\n",
       "        vertical-align: middle;\n",
       "    }\n",
       "\n",
       "    .dataframe tbody tr th {\n",
       "        vertical-align: top;\n",
       "    }\n",
       "\n",
       "    .dataframe thead th {\n",
       "        text-align: right;\n",
       "    }\n",
       "</style>\n",
       "<table border=\"1\" class=\"dataframe\">\n",
       "  <thead>\n",
       "    <tr style=\"text-align: right;\">\n",
       "      <th></th>\n",
       "      <th>qname</th>\n",
       "      <th>flag</th>\n",
       "      <th>strand</th>\n",
       "      <th>isize</th>\n",
       "    </tr>\n",
       "  </thead>\n",
       "  <tbody>\n",
       "    <tr>\n",
       "      <th>0</th>\n",
       "      <td>A01492:11:HNH7TDMXX:1:1103:11225:6997</td>\n",
       "      <td>83</td>\n",
       "      <td>-</td>\n",
       "      <td>-32</td>\n",
       "    </tr>\n",
       "    <tr>\n",
       "      <th>1</th>\n",
       "      <td>A01492:11:HNH7TDMXX:1:1103:11225:6997</td>\n",
       "      <td>163</td>\n",
       "      <td>+</td>\n",
       "      <td>32</td>\n",
       "    </tr>\n",
       "    <tr>\n",
       "      <th>2</th>\n",
       "      <td>A01492:11:HNH7TDMXX:1:1104:11912:3145</td>\n",
       "      <td>83</td>\n",
       "      <td>-</td>\n",
       "      <td>-53</td>\n",
       "    </tr>\n",
       "    <tr>\n",
       "      <th>3</th>\n",
       "      <td>A01492:11:HNH7TDMXX:1:1104:11912:3145</td>\n",
       "      <td>163</td>\n",
       "      <td>+</td>\n",
       "      <td>53</td>\n",
       "    </tr>\n",
       "    <tr>\n",
       "      <th>4</th>\n",
       "      <td>A01492:11:HNH7TDMXX:1:1104:3586:16689</td>\n",
       "      <td>83</td>\n",
       "      <td>-</td>\n",
       "      <td>-86</td>\n",
       "    </tr>\n",
       "    <tr>\n",
       "      <th>5</th>\n",
       "      <td>A01492:11:HNH7TDMXX:1:1104:3586:16689</td>\n",
       "      <td>163</td>\n",
       "      <td>+</td>\n",
       "      <td>86</td>\n",
       "    </tr>\n",
       "    <tr>\n",
       "      <th>6</th>\n",
       "      <td>A01492:11:HNH7TDMXX:1:1104:2636:35086</td>\n",
       "      <td>83</td>\n",
       "      <td>-</td>\n",
       "      <td>-34</td>\n",
       "    </tr>\n",
       "    <tr>\n",
       "      <th>7</th>\n",
       "      <td>A01492:11:HNH7TDMXX:1:1104:2636:35086</td>\n",
       "      <td>163</td>\n",
       "      <td>+</td>\n",
       "      <td>34</td>\n",
       "    </tr>\n",
       "    <tr>\n",
       "      <th>8</th>\n",
       "      <td>A01492:11:HNH7TDMXX:1:1105:7943:2754</td>\n",
       "      <td>83</td>\n",
       "      <td>-</td>\n",
       "      <td>-69</td>\n",
       "    </tr>\n",
       "    <tr>\n",
       "      <th>9</th>\n",
       "      <td>A01492:11:HNH7TDMXX:1:1105:7943:2754</td>\n",
       "      <td>163</td>\n",
       "      <td>+</td>\n",
       "      <td>69</td>\n",
       "    </tr>\n",
       "  </tbody>\n",
       "</table>\n",
       "</div>"
      ],
      "text/plain": [
       "                                   qname flag strand isize\n",
       "0  A01492:11:HNH7TDMXX:1:1103:11225:6997   83      -   -32\n",
       "1  A01492:11:HNH7TDMXX:1:1103:11225:6997  163      +    32\n",
       "2  A01492:11:HNH7TDMXX:1:1104:11912:3145   83      -   -53\n",
       "3  A01492:11:HNH7TDMXX:1:1104:11912:3145  163      +    53\n",
       "4  A01492:11:HNH7TDMXX:1:1104:3586:16689   83      -   -86\n",
       "5  A01492:11:HNH7TDMXX:1:1104:3586:16689  163      +    86\n",
       "6  A01492:11:HNH7TDMXX:1:1104:2636:35086   83      -   -34\n",
       "7  A01492:11:HNH7TDMXX:1:1104:2636:35086  163      +    34\n",
       "8   A01492:11:HNH7TDMXX:1:1105:7943:2754   83      -   -69\n",
       "9   A01492:11:HNH7TDMXX:1:1105:7943:2754  163      +    69"
      ]
     },
     "execution_count": 39,
     "metadata": {},
     "output_type": "execute_result"
    }
   ],
   "source": [
    "dff_len_dir_83_163.head(10)"
   ]
  },
  {
   "cell_type": "code",
   "execution_count": 40,
   "id": "d2bbdda2-dd0c-4e3b-aea2-a0251d0e60e1",
   "metadata": {},
   "outputs": [
    {
     "data": {
      "image/png": "[encoded data removed]",
      "text/plain": [
       "<Figure size 1080x504 with 1 Axes>"
      ]
     },
     "metadata": {},
     "output_type": "display_data"
    }
   ],
   "source": [
    "a=[abs(e) for e in list(dff_len_dir_99_147[\"isize\"])]\n",
    "#b=list(dff_3[\"isize\"])*(+1)\n",
    "b = [abs(e) for e in list(dff_len_dir_83_163[\"isize\"])]\n",
    "\n",
    "#bins = np.linspace(1, 100, 100)[19:50] - 0.5\n",
    "bins = np.linspace(1, 100, 100)[19:100] - 0.5\n",
    "#bins = np.linspace(1, 100, 100) - 0.5\n",
    "\n",
    "\n",
    "fig = plt.figure(figsize=(15,7), facecolor = \"white\")\n",
    "plt.title(u'distribution of fragment lengths after PPS +25 kbp', fontsize=15)\n",
    "plt.hist([a, b], bins, label=['plus strand 99 147 flag', 'min strand 83 163 flag'], density = True)\n",
    "#plt.xticks([20, 30, 31, 32, 33, 34, 35, 36, 37, 38, 39, 40, 50])\n",
    "plt.xticks([33, 37, 40, 50])\n",
    "plt.legend(loc='upper left')\n",
    "plt.show(fig) "
   ]
  },
  {
   "cell_type": "code",
   "execution_count": 19,
   "id": "b6052e5a-76e5-4402-86fc-ef23df013d93",
   "metadata": {},
   "outputs": [],
   "source": [
    "#path_to_save = \"\"\n",
    "#fig.savefig(path_to_save, dpi=200)"
   ]
  },
  {
   "cell_type": "markdown",
   "id": "96ba90e7-f3ad-450c-acb0-98679e070b74",
   "metadata": {},
   "source": [
    "upstream of PPS (25kbp)\n",
    "="
   ]
  },
  {
   "cell_type": "code",
   "execution_count": 41,
   "id": "2625eb34-a25a-4f60-a393-73bb2f42bb07",
   "metadata": {},
   "outputs": [],
   "source": [
    "dff_len_isize = pd.DataFrame({'qname': [''], 'flag': [''], 'strand': [''], 'isize': ['']})\n",
    "dff_len_dir_99_147 = pd.DataFrame({'qname': [''], 'flag': [''], 'strand': [''], 'isize': ['']})\n",
    "dff_len_dir_83_163 = pd.DataFrame({'qname': [''], 'flag': [''], 'strand': [''], 'isize': ['']})"
   ]
  },
  {
   "cell_type": "code",
   "execution_count": 42,
   "id": "0f3f51cd-ae15-4cae-a48b-e60d26327cbf",
   "metadata": {},
   "outputs": [],
   "source": [
    "#25kbp-\n",
    "k = 0\n",
    "for m in range(1, uni_bam_df.shape[0]):\n",
    "    #if uni_bam_df['strand'][m] == '-':\n",
    "    if \"D\" or \"I\" not in uni_bam_df[\"cigar\"]:\n",
    "\n",
    "        #if int(uni_bam_df['pos'][m]) > 550538 and int(uni_bam_df['pos'][m]) < 575538:\n",
    "        if int(uni_bam_df['pos'][m]) > PPS_start-region_len and int(uni_bam_df['pos'][m]) < PPS_start:\n",
    "            \n",
    "            #if int(uni_bam_df['qwidth'][m]) < 51:\n",
    "            dff_len_isize.loc[k, 'qname'] = uni_bam_df['qname'][m]\n",
    "            dff_len_isize.loc[k, 'flag'] = uni_bam_df['flag'][m]\n",
    "            dff_len_isize.loc[k, 'strand'] = uni_bam_df['strand'][m]\n",
    "            dff_len_isize.loc[k, 'isize'] = uni_bam_df['isize'][m]\n",
    "\n",
    "            k+=1"
   ]
  },
  {
   "cell_type": "code",
   "execution_count": 23,
   "id": "850ff4c3-4f70-43ea-8439-95b348a49df9",
   "metadata": {},
   "outputs": [],
   "source": [
    "k = 0\n",
    "for m in range(0, dff_len_isize.shape[0]):\n",
    "    if int(dff_len_isize['flag'][m]) == 147 or int(dff_len_isize['flag'][m]) == 99:\n",
    "    #if int(uni_bam_df['pos'][m]) > 550538 and int(uni_bam_df['pos'][m]) < 600570:\n",
    "        #if int(uni_bam_df['qwidth'][m]) < 50:\n",
    "        dff_len_dir_99_147.loc[k, 'qname'] = dff_len_isize['qname'][m]\n",
    "        dff_len_dir_99_147.loc[k, 'flag'] = dff_len_isize['flag'][m]\n",
    "        dff_len_dir_99_147.loc[k, 'strand'] = dff_len_isize['strand'][m]\n",
    "        dff_len_dir_99_147.loc[k, 'isize'] = dff_len_isize['isize'][m]\n",
    "\n",
    "        k+=1\n",
    "        \n",
    "        \n",
    "k = 0\n",
    "for m in range(0, dff_len_isize.shape[0]):\n",
    "    if int(dff_len_isize['flag'][m]) == 163 or int(dff_len_isize['flag'][m]) == 83:\n",
    "    #if int(uni_bam_df['pos'][m]) > 550538 and int(uni_bam_df['pos'][m]) < 600570:\n",
    "        #if int(uni_bam_df['qwidth'][m]) < 50:\n",
    "        dff_len_dir_83_163.loc[k, 'qname'] = dff_len_isize['qname'][m]\n",
    "        dff_len_dir_83_163.loc[k, 'flag'] = dff_len_isize['flag'][m]\n",
    "        dff_len_dir_83_163.loc[k, 'strand'] = dff_len_isize['strand'][m]\n",
    "        dff_len_dir_83_163.loc[k, 'isize'] = dff_len_isize['isize'][m]\n",
    "\n",
    "        k+=1"
   ]
  },
  {
   "cell_type": "code",
   "execution_count": 24,
   "id": "742ba4ae-cbe5-472b-b538-28b9b0b27b22",
   "metadata": {},
   "outputs": [
    {
     "data": {
      "image/png": "[encoded data removed]",
      "text/plain": [
       "<Figure size 1080x504 with 1 Axes>"
      ]
     },
     "metadata": {},
     "output_type": "display_data"
    }
   ],
   "source": [
    "a=[abs(e) for e in list(dff_len_dir_99_147[\"isize\"])]\n",
    "#b=list(dff_3[\"isize\"])*(+1)\n",
    "b = [abs(e) for e in list(dff_len_dir_83_163[\"isize\"])]\n",
    "\n",
    "#bins = np.linspace(1, 100, 100)[19:50] - 0.5\n",
    "bins = np.linspace(1, 100, 100)[19:100] - 0.5\n",
    "#bins = np.linspace(1, 100, 100) - 0.5\n",
    "\n",
    "\n",
    "fig = plt.figure(figsize=(15,7), facecolor = \"white\")\n",
    "plt.title(u'distribution of fragment lengths before PPS -25 kbp', fontsize=15)\n",
    "plt.hist([a, b], bins, label=['plus strand 99 147 flag', 'min strand 83 163 flag'], density = True)\n",
    "#plt.xticks([20, 30, 31, 32, 33, 34, 35, 36, 37, 38, 39, 40, 50])\n",
    "plt.xticks([33, 37, 40, 50])\n",
    "plt.legend(loc='upper left')\n",
    "plt.show(fig) "
   ]
  },
  {
   "cell_type": "code",
   "execution_count": 43,
   "id": "60f42f28-84cd-4624-a9d4-bbb8dfc98589",
   "metadata": {},
   "outputs": [],
   "source": [
    "#path_to_save = \"\"\n",
    "#fig.savefig(path_to_save, dpi=200)"
   ]
  },
  {
   "cell_type": "code",
   "execution_count": null,
   "id": "37ea6257-ee8d-4536-963f-89b68bd21517",
   "metadata": {},
   "outputs": [],
   "source": []
  },
  {
   "cell_type": "code",
   "execution_count": null,
   "id": "24b23315-94c5-4fae-8fd0-c1774cb039d2",
   "metadata": {},
   "outputs": [],
   "source": []
  },
  {
   "cell_type": "code",
   "execution_count": null,
   "id": "e2fba022-4644-4973-a1da-0acf86d166e0",
   "metadata": {},
   "outputs": [],
   "source": []
  }
 ],
 "metadata": {
  "kernelspec": {
   "display_name": "Python 3 (ipykernel)",
   "language": "python",
   "name": "python3"
  },
  "language_info": {
   "codemirror_mode": {
    "name": "ipython",
    "version": 3
   },
   "file_extension": ".py",
   "mimetype": "text/x-python",
   "name": "python",
   "nbconvert_exporter": "python",
   "pygments_lexer": "ipython3",
   "version": "3.8.13"
  }
 },
 "nbformat": 4,
 "nbformat_minor": 5
}
